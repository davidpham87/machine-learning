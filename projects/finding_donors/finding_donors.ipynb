{
 "cells": [
  {
   "cell_type": "markdown",
   "metadata": {
    "ein.tags": "worksheet-0",
    "slideshow": {
     "slide_type": "-"
    }
   },
   "source": [
    "# Machine Learning Engineer Nanodegree\n",
    "## Supervised Learning\n",
    "## Project: Finding Donors for *CharityML*"
   ]
  },
  {
   "cell_type": "markdown",
   "metadata": {
    "ein.tags": "worksheet-0",
    "slideshow": {
     "slide_type": "-"
    }
   },
   "source": [
    "Welcome to the second project of the Machine Learning Engineer Nanodegree! In\n",
    "this notebook, some template code has already been provided for you, and it will\n",
    "be your job to implement the additional functionality necessary to successfully\n",
    "complete this project. Sections that begin with **'Implementation'** in the\n",
    "header indicate that the following block of code will require additional\n",
    "functionality which you must provide. Instructions will be provided for each\n",
    "section and the specifics of the implementation are marked in the code block\n",
    "with a `'TODO'` statement. Please be sure to read the instructions carefully!\n",
    "\n",
    "In addition to implementing code, there will be questions that you must answer\n",
    "which relate to the project and your implementation. Each section where you will\n",
    "answer a question is preceded by a **'Question X'** header. Carefully read each\n",
    "question and provide thorough answers in the following text boxes that begin\n",
    "with **'Answer:'**. Your project submission will be evaluated based on your\n",
    "answers to each of the questions and the implementation you provide.\n",
    "\n",
    ">**Note:** Please specify WHICH VERSION OF PYTHON you are using when submitting\n",
    "   this notebook. Code and Markdown cells can be executed using the **Shift +\n",
    "   Enter** keyboard shortcut. In addition, Markdown cells can be edited by\n",
    "   typically double-clicking the cell to enter edit mode."
   ]
  },
  {
   "cell_type": "markdown",
   "metadata": {
    "ein.tags": "worksheet-0",
    "slideshow": {
     "slide_type": "-"
    }
   },
   "source": [
    "## Getting Started\n",
    "\n",
    "In this project, you will employ several supervised algorithms of your choice to\n",
    "accurately model individuals' income using data collected from the 1994 U.S.\n",
    "Census. You will then choose the best candidate algorithm from preliminary\n",
    "results and further optimize this algorithm to best model the data. Your goal\n",
    "with this implementation is to construct a model that accurately predicts\n",
    "whether an individual makes more than $50,000. This sort of task can arise in a\n",
    "non-profit setting, where organizations survive on donations. Understanding an\n",
    "individual's income can help a non-profit better understand how large of a\n",
    "donation to request, or whether or not they should reach out to begin with.\n",
    "While it can be difficult to determine an individual's general income bracket\n",
    "directly from public sources, we can (as we will see) infer this value from\n",
    "other publically available features.\n",
    "\n",
    "The dataset for this project originates from the [UCI Machine Learning\n",
    "Repository](https://archive.ics.uci.edu/ml/datasets/Census+Income). The datset\n",
    "was donated by Ron Kohavi and Barry Becker, after being published in the article\n",
    "_\"Scaling Up the Accuracy of Naive-Bayes Classifiers: A Decision-Tree Hybrid\"_.\n",
    "You can find the article by Ron Kohavi\n",
    "[online](https://www.aaai.org/Papers/KDD/1996/KDD96-033.pdf). The data we\n",
    "investigate here consists of small changes to the original dataset, such as\n",
    "removing the `'fnlwgt'` feature and records with missing or ill-formatted\n",
    "entries."
   ]
  },
  {
   "cell_type": "markdown",
   "metadata": {
    "ein.tags": "worksheet-0",
    "slideshow": {
     "slide_type": "-"
    }
   },
   "source": [
    "----\n",
    "## Exploring the Data Run the code cell below to load necessary Python libraries\n",
    "and load the census data. Note that the last column from this dataset,\n",
    "`'income'`, will be our target label (whether an individual makes more than, or\n",
    "at most, $50,000 annually). All other columns are features about each individual\n",
    "in the census database."
   ]
  },
  {
   "cell_type": "code",
   "execution_count": 13,
   "metadata": {
    "autoscroll": false,
    "collapsed": false,
    "ein.tags": "worksheet-0",
    "slideshow": {
     "slide_type": "-"
    }
   },
   "outputs": [
    {
     "data": {
      "text/html": [
       "<div>\n<style>\n    .dataframe thead tr:only-child th {\n        text-align: right;\n    }\n\n    .dataframe thead th {\n        text-align: left;\n    }\n\n    .dataframe tbody tr th {\n        vertical-align: top;\n    }\n</style>\n<table border=\"1\" class=\"dataframe\">\n  <thead>\n    <tr style=\"text-align: right;\">\n      <th></th>\n      <th>age</th>\n      <th>workclass</th>\n      <th>education_level</th>\n      <th>education-num</th>\n      <th>marital-status</th>\n      <th>occupation</th>\n      <th>relationship</th>\n      <th>race</th>\n      <th>sex</th>\n      <th>capital-gain</th>\n      <th>capital-loss</th>\n      <th>hours-per-week</th>\n      <th>native-country</th>\n      <th>income</th>\n    </tr>\n  </thead>\n  <tbody>\n    <tr>\n      <th>0</th>\n      <td>39</td>\n      <td>State-gov</td>\n      <td>Bachelors</td>\n      <td>13.0</td>\n      <td>Never-married</td>\n      <td>Adm-clerical</td>\n      <td>Not-in-family</td>\n      <td>White</td>\n      <td>Male</td>\n      <td>2174.0</td>\n      <td>0.0</td>\n      <td>40.0</td>\n      <td>United-States</td>\n      <td>&lt;=50K</td>\n    </tr>\n  </tbody>\n</table>\n</div>"
      ],
      "text/plain": [
       "   age   workclass education_level  education-num  marital-status  \\\n0   39   State-gov       Bachelors           13.0   Never-married   \n\n      occupation    relationship    race    sex  capital-gain  capital-loss  \\\n0   Adm-clerical   Not-in-family   White   Male        2174.0           0.0   \n\n   hours-per-week  native-country income  \n0            40.0   United-States  <=50K  "
      ]
     },
     "metadata": {},
     "output_type": "display_data"
    }
   ],
   "source": [
    "# Import libraries necessary for this project\n",
    "import numpy as np\n",
    "import pandas as pd\n",
    "from time import time\n",
    "from IPython.display import display # Allows the use of display() for DataFrames\n",
    "\n",
    "# Import supplementary visualization code visuals.py\n",
    "import visuals as vs\n",
    "from importlib import reload\n",
    "reload(vs)\n",
    "# Pretty display for notebooks\n",
    "%matplotlib inline\n",
    "\n",
    "# Load the Census dataset\n",
    "data = pd.read_csv(\"census.csv\")\n",
    "\n",
    "# Success - Display the first record\n",
    "display(data.head(n=1))"
   ]
  },
  {
   "cell_type": "markdown",
   "metadata": {
    "ein.tags": "worksheet-0",
    "slideshow": {
     "slide_type": "-"
    }
   },
   "source": [
    "### Implementation: Data Exploration\n",
    "A cursory investigation of the dataset will determine how many individuals fit\n",
    "into either group, and will tell us about the percentage of these individuals\n",
    "making more than \\$50,000. In the code cell below, you will need to compute the\n",
    "following:\n",
    "\n",
    "- The total number of records, `'n_records'`\n",
    "- The number of individuals making more than \\$50,000 annually,\n",
    "  `'n_greater_50k'`.\n",
    "- The number of individuals making at most \\$50,000 annually, `'n_at_most_50k'`.\n",
    "- The percentage of individuals making more than \\$50,000 annually,\n",
    "  `'greater_percent'`.\n",
    "\n",
    "** HINT: ** You may need to look at the table above to understand how the\n",
    "   `'income'` entries are formatted."
   ]
  },
  {
   "cell_type": "code",
   "execution_count": 14,
   "metadata": {
    "autoscroll": false,
    "collapsed": false,
    "ein.tags": "worksheet-0",
    "slideshow": {
     "slide_type": "-"
    }
   },
   "outputs": [
    {
     "name": "stdout",
     "output_type": "stream",
     "text": [
      "Total number of records: 45222\n",
      "Individuals making more than $50,000: 11208\n",
      "Individuals making at most $50,000: 34014\n",
      "Percentage of individuals making more than $50,000: 24.78%\n"
     ]
    }
   ],
   "source": [
    "\n",
    "n_records = data.shape[0]\n",
    "n_greater_50k = data.query('income == \">50K\"').shape[0]\n",
    "n_at_most_50k = n_records - n_greater_50k\n",
    "greater_percent = n_greater_50k/n_records*100\n",
    "\n",
    "# Print the results\n",
    "print(\"Total number of records: {}\".format(n_records))\n",
    "print(\"Individuals making more than $50,000: {}\".format(n_greater_50k))\n",
    "print(\"Individuals making at most $50,000: {}\".format(n_at_most_50k))\n",
    "print(\"Percentage of individuals making more than $50,000: {:.2f}%\".format(greater_percent))"
   ]
  },
  {
   "cell_type": "markdown",
   "metadata": {
    "ein.tags": "worksheet-0",
    "slideshow": {
     "slide_type": "-"
    }
   },
   "source": [
    "** Featureset Exploration **\n",
    "\n",
    "* **age**: continuous. \n",
    "* **workclass**: Private, Self-emp-not-inc, Self-emp-inc, Federal-gov, Local-gov, State-gov, Without-pay, Never-worked. \n",
    "* **education**: Bachelors, Some-college, 11th, HS-grad, Prof-school, Assoc-acdm, Assoc-voc, 9th, 7th-8th, 12th, Masters, 1st-4th, 10th, Doctorate, 5th-6th, Preschool. \n",
    "* **education-num**: continuous. \n",
    "* **marital-status**: Married-civ-spouse, Divorced, Never-married, Separated, Widowed, Married-spouse-absent, Married-AF-spouse. \n",
    "* **occupation**: Tech-support, Craft-repair, Other-service, Sales, Exec-managerial, Prof-specialty, Handlers-cleaners, Machine-op-inspct, Adm-clerical, Farming-fishing, Transport-moving, Priv-house-serv, Protective-serv, Armed-Forces. \n",
    "* **relationship**: Wife, Own-child, Husband, Not-in-family, Other-relative, Unmarried. \n",
    "* **race**: Black, White, Asian-Pac-Islander, Amer-Indian-Eskimo, Other. \n",
    "* **sex**: Female, Male. \n",
    "* **capital-gain**: continuous. \n",
    "* **capital-loss**: continuous. \n",
    "* **hours-per-week**: continuous. \n",
    "* **native-country**: United-States, Cambodia, England, Puerto-Rico, Canada, Germany, Outlying-US(Guam-USVI-etc), India, Japan, Greece, South, China, Cuba, Iran, Honduras, Philippines, Italy, Poland, Jamaica, Vietnam, Mexico, Portugal, Ireland, France, Dominican-Republic, Laos, Ecuador, Taiwan, Haiti, Columbia, Hungary, Guatemala, Nicaragua, Scotland, Thailand, Yugoslavia, El-Salvador, Trinadad&Tobago, Peru, Hong, Holand-Netherlands."
   ]
  },
  {
   "cell_type": "markdown",
   "metadata": {
    "ein.tags": "worksheet-0",
    "slideshow": {
     "slide_type": "-"
    }
   },
   "source": [
    "----\n",
    "## Preparing the Data\n",
    "Before data can be used as input for machine learning algorithms, it often must\n",
    "be cleaned, formatted, and restructured — this is typically known as\n",
    "**preprocessing**. Fortunately, for this dataset, there are no invalid or\n",
    "missing entries we must deal with, however, there are some qualities about\n",
    "certain features that must be adjusted. This preprocessing can help tremendously\n",
    "with the outcome and predictive power of nearly all learning algorithms."
   ]
  },
  {
   "cell_type": "markdown",
   "metadata": {
    "ein.tags": "worksheet-0",
    "slideshow": {
     "slide_type": "-"
    }
   },
   "source": [
    "### Transforming Skewed Continuous Features\n",
    "A dataset may sometimes contain at least one feature whose values tend to lie\n",
    "near a single number, but will also have a non-trivial number of vastly larger\n",
    "or smaller values than that single number. Algorithms can be sensitive to such\n",
    "distributions of values and can underperform if the range is not properly\n",
    "normalized. With the census dataset two features fit this description:\n",
    "'`capital-gain'` and `'capital-loss'`.\n",
    "\n",
    "Run the code cell below to plot a histogram of these two features. Note the\n",
    "range of the values present and how they are distributed."
   ]
  },
  {
   "cell_type": "code",
   "execution_count": 15,
   "metadata": {
    "autoscroll": false,
    "collapsed": false,
    "ein.tags": "worksheet-0",
    "slideshow": {
     "slide_type": "-"
    }
   },
   "outputs": [
    {
     "data": {
      "image/png": "[encoded data removed]",
      "text/plain": [
       "<matplotlib.figure.Figure at 0x7fc570892eb8>"
      ]
     },
     "metadata": {},
     "output_type": "display_data"
    }
   ],
   "source": [
    "# Split the data into features and target label\n",
    "income_raw = data['income']\n",
    "features_raw = data.drop('income', axis = 1)\n",
    "\n",
    "# Visualize skewed continuous features of original data\n",
    "vs.distribution(data)"
   ]
  },
  {
   "cell_type": "markdown",
   "metadata": {
    "ein.tags": "worksheet-0",
    "slideshow": {
     "slide_type": "-"
    }
   },
   "source": [
    "For highly-skewed feature distributions such as `'capital-gain'` and\n",
    "`'capital-loss'`, it is common practice to apply a <a\n",
    "href=\"https://en.wikipedia.org/wiki/Data_transformation_(statistics)\">logarithmic\n",
    "transformation</a> on the data so that the very large and very small values do\n",
    "not negatively affect the performance of a learning algorithm. Using a\n",
    "logarithmic transformation significantly reduces the range of values caused by\n",
    "outliers. Care must be taken when applying this transformation however: The\n",
    "logarithm of `0` is undefined, so we must translate the values by a small amount\n",
    "above `0` to apply the the logarithm successfully.\n",
    "\n",
    "Run the code cell below to perform a transformation on the data and visualize\n",
    "the results. Again, note the range of values and how they are distributed."
   ]
  },
  {
   "cell_type": "code",
   "execution_count": 16,
   "metadata": {
    "autoscroll": false,
    "collapsed": false,
    "ein.tags": "worksheet-0",
    "slideshow": {
     "slide_type": "-"
    }
   },
   "outputs": [
    {
     "data": {
      "image/png": "[encoded data removed]",
      "text/plain": [
       "<matplotlib.figure.Figure at 0x7fc573cc53c8>"
      ]
     },
     "metadata": {},
     "output_type": "display_data"
    }
   ],
   "source": [
    "# Log-transform the skewed features\n",
    "skewed = ['capital-gain', 'capital-loss']\n",
    "features_log_transformed = pd.DataFrame(data = features_raw)\n",
    "features_log_transformed[skewed] = features_raw[skewed].apply(lambda x: np.log(x + 1))\n",
    "\n",
    "# Visualize the new log distributions\n",
    "vs.distribution(features_log_transformed, transformed = True)"
   ]
  },
  {
   "cell_type": "markdown",
   "metadata": {
    "ein.tags": "worksheet-0",
    "slideshow": {
     "slide_type": "-"
    }
   },
   "source": [
    "### Normalizing Numerical Features\n",
    "\n",
    "In addition to performing transformations on features that are highly skewed, it\n",
    "is often good practice to perform some type of scaling on numerical features.\n",
    "Applying a scaling to the data does not change the shape of each feature's\n",
    "distribution (such as `'capital-gain'` or `'capital-loss'` above); however,\n",
    "normalization ensures that each feature is treated equally when applying\n",
    "supervised learners. Note that once scaling is applied, observing the data in\n",
    "its raw form will no longer have the same original meaning, as exampled below.\n",
    "\n",
    "Run the code cell below to normalize each numerical feature. We will use\n",
    "[`sklearn.preprocessing.MinMaxScaler`](http://scikit-learn.org/stable/modules/generated/sklearn.preprocessing.MinMaxScaler.html)\n",
    "for this."
   ]
  },
  {
   "cell_type": "code",
   "execution_count": 17,
   "metadata": {
    "autoscroll": false,
    "collapsed": false,
    "ein.tags": "worksheet-0",
    "slideshow": {
     "slide_type": "-"
    }
   },
   "outputs": [
    {
     "data": {
      "text/html": [
       "<div>\n<style>\n    .dataframe thead tr:only-child th {\n        text-align: right;\n    }\n\n    .dataframe thead th {\n        text-align: left;\n    }\n\n    .dataframe tbody tr th {\n        vertical-align: top;\n    }\n</style>\n<table border=\"1\" class=\"dataframe\">\n  <thead>\n    <tr style=\"text-align: right;\">\n      <th></th>\n      <th>age</th>\n      <th>workclass</th>\n      <th>education_level</th>\n      <th>education-num</th>\n      <th>marital-status</th>\n      <th>occupation</th>\n      <th>relationship</th>\n      <th>race</th>\n      <th>sex</th>\n      <th>capital-gain</th>\n      <th>capital-loss</th>\n      <th>hours-per-week</th>\n      <th>native-country</th>\n    </tr>\n  </thead>\n  <tbody>\n    <tr>\n      <th>0</th>\n      <td>0.301370</td>\n      <td>State-gov</td>\n      <td>Bachelors</td>\n      <td>0.800000</td>\n      <td>Never-married</td>\n      <td>Adm-clerical</td>\n      <td>Not-in-family</td>\n      <td>White</td>\n      <td>Male</td>\n      <td>0.667492</td>\n      <td>0.0</td>\n      <td>0.397959</td>\n      <td>United-States</td>\n    </tr>\n    <tr>\n      <th>1</th>\n      <td>0.452055</td>\n      <td>Self-emp-not-inc</td>\n      <td>Bachelors</td>\n      <td>0.800000</td>\n      <td>Married-civ-spouse</td>\n      <td>Exec-managerial</td>\n      <td>Husband</td>\n      <td>White</td>\n      <td>Male</td>\n      <td>0.000000</td>\n      <td>0.0</td>\n      <td>0.122449</td>\n      <td>United-States</td>\n    </tr>\n    <tr>\n      <th>2</th>\n      <td>0.287671</td>\n      <td>Private</td>\n      <td>HS-grad</td>\n      <td>0.533333</td>\n      <td>Divorced</td>\n      <td>Handlers-cleaners</td>\n      <td>Not-in-family</td>\n      <td>White</td>\n      <td>Male</td>\n      <td>0.000000</td>\n      <td>0.0</td>\n      <td>0.397959</td>\n      <td>United-States</td>\n    </tr>\n    <tr>\n      <th>3</th>\n      <td>0.493151</td>\n      <td>Private</td>\n      <td>11th</td>\n      <td>0.400000</td>\n      <td>Married-civ-spouse</td>\n      <td>Handlers-cleaners</td>\n      <td>Husband</td>\n      <td>Black</td>\n      <td>Male</td>\n      <td>0.000000</td>\n      <td>0.0</td>\n      <td>0.397959</td>\n      <td>United-States</td>\n    </tr>\n    <tr>\n      <th>4</th>\n      <td>0.150685</td>\n      <td>Private</td>\n      <td>Bachelors</td>\n      <td>0.800000</td>\n      <td>Married-civ-spouse</td>\n      <td>Prof-specialty</td>\n      <td>Wife</td>\n      <td>Black</td>\n      <td>Female</td>\n      <td>0.000000</td>\n      <td>0.0</td>\n      <td>0.397959</td>\n      <td>Cuba</td>\n    </tr>\n  </tbody>\n</table>\n</div>"
      ],
      "text/plain": [
       "        age          workclass education_level  education-num  \\\n0  0.301370          State-gov       Bachelors       0.800000   \n1  0.452055   Self-emp-not-inc       Bachelors       0.800000   \n2  0.287671            Private         HS-grad       0.533333   \n3  0.493151            Private            11th       0.400000   \n4  0.150685            Private       Bachelors       0.800000   \n\n        marital-status          occupation    relationship    race      sex  \\\n0        Never-married        Adm-clerical   Not-in-family   White     Male   \n1   Married-civ-spouse     Exec-managerial         Husband   White     Male   \n2             Divorced   Handlers-cleaners   Not-in-family   White     Male   \n3   Married-civ-spouse   Handlers-cleaners         Husband   Black     Male   \n4   Married-civ-spouse      Prof-specialty            Wife   Black   Female   \n\n   capital-gain  capital-loss  hours-per-week  native-country  \n0      0.667492           0.0        0.397959   United-States  \n1      0.000000           0.0        0.122449   United-States  \n2      0.000000           0.0        0.397959   United-States  \n3      0.000000           0.0        0.397959   United-States  \n4      0.000000           0.0        0.397959            Cuba  "
      ]
     },
     "metadata": {},
     "output_type": "display_data"
    }
   ],
   "source": [
    "# Import sklearn.preprocessing.StandardScaler\n",
    "from sklearn.preprocessing import MinMaxScaler\n",
    "\n",
    "# Initialize a scaler, then apply it to the features\n",
    "scaler = MinMaxScaler() # default=(0, 1)\n",
    "numerical = ['age', 'education-num', 'capital-gain', 'capital-loss', 'hours-per-week']\n",
    "\n",
    "features_log_minmax_transform = pd.DataFrame(data = features_log_transformed)\n",
    "features_log_minmax_transform[numerical] = scaler.fit_transform(\n",
    "    features_log_transformed[numerical])\n",
    "\n",
    "# Show an example of a record with scaling applied\n",
    "display(features_log_minmax_transform.head(n = 5))\n"
   ]
  },
  {
   "cell_type": "markdown",
   "metadata": {
    "ein.tags": "worksheet-0",
    "slideshow": {
     "slide_type": "-"
    }
   },
   "source": [
    "### Implementation: Data Preprocessing\n",
    "\n",
    "From the table in **Exploring the Data** above, we can see there are several\n",
    "features for each record that are non-numeric. Typically, learning algorithms\n",
    "expect input to be numeric, which requires that non-numeric features (called\n",
    "*categorical variables*) be converted. One popular way to convert categorical\n",
    "variables is by using the **one-hot encoding** scheme. One-hot encoding creates\n",
    "a _\"dummy\"_ variable for each possible category of each non-numeric feature. For\n",
    "example, assume `someFeature` has three possible entries: `A`, `B`, or `C`. We\n",
    "then encode this feature into `someFeature_A`, `someFeature_B` and\n",
    "`someFeature_C`.\n",
    "\n",
    "|   | someFeature |                    | someFeature_A | someFeature_B | someFeature_C |\n",
    "| :-: | :-: |                            | :-: | :-: | :-: |\n",
    "| 0 |  B  |  | 0 | 1 | 0 |\n",
    "| 1 |  C  | ----> one-hot encode ----> | 0 | 0 | 1 |\n",
    "| 2 |  A  |  | 1 | 0 | 0 |\n",
    "\n",
    "Additionally, as with the non-numeric features, we need to convert the\n",
    "non-numeric target label, `'income'` to numerical values for the learning\n",
    "algorithm to work. Since there are only two possible categories for this label\n",
    "(\"<=50K\" and \">50K\"), we can avoid using one-hot encoding and simply encode\n",
    "these two categories as `0` and `1`, respectively. In code cell below, you will\n",
    "need to implement the following:\n",
    " - Use\n",
    "   [`pandas.get_dummies()`](http://pandas.pydata.org/pandas-docs/stable/generated/pandas.get_dummies.html?highlight=get_dummies#pandas.get_dummies)\n",
    "   to perform one-hot encoding on the `'features_raw'` data.\n",
    " - Convert the target label `'income_raw'` to numerical entries. Set records\n",
    "   - with \"<=50K\" to `0` and records with \">50K\" to `1`."
   ]
  },
  {
   "cell_type": "code",
   "execution_count": 18,
   "metadata": {
    "autoscroll": false,
    "collapsed": false,
    "ein.tags": "worksheet-0",
    "slideshow": {
     "slide_type": "-"
    }
   },
   "outputs": [
    {
     "name": "stdout",
     "output_type": "stream",
     "text": [
      "   age          workclass education_level  education-num       marital-status  \\\n",
      "0   39          State-gov       Bachelors           13.0        Never-married   \n",
      "1   50   Self-emp-not-inc       Bachelors           13.0   Married-civ-spouse   \n",
      "2   38            Private         HS-grad            9.0             Divorced   \n",
      "3   53            Private            11th            7.0   Married-civ-spouse   \n",
      "4   28            Private       Bachelors           13.0   Married-civ-spouse   \n",
      "\n",
      "           occupation    relationship    race      sex  capital-gain  \\\n",
      "0        Adm-clerical   Not-in-family   White     Male        2174.0   \n",
      "1     Exec-managerial         Husband   White     Male           0.0   \n",
      "2   Handlers-cleaners   Not-in-family   White     Male           0.0   \n",
      "3   Handlers-cleaners         Husband   Black     Male           0.0   \n",
      "4      Prof-specialty            Wife   Black   Female           0.0   \n",
      "\n",
      "   capital-loss  hours-per-week  native-country income  \n",
      "0           0.0            40.0   United-States  <=50K  \n",
      "1           0.0            13.0   United-States  <=50K  \n",
      "2           0.0            40.0   United-States  <=50K  \n",
      "3           0.0            40.0   United-States  <=50K  \n",
      "4           0.0            40.0            Cuba  <=50K  \n"
     ]
    }
   ],
   "source": [
    "print(data.head())"
   ]
  },
  {
   "cell_type": "code",
   "execution_count": 19,
   "metadata": {
    "autoscroll": false,
    "collapsed": false,
    "ein.tags": "worksheet-0",
    "scrolled": true,
    "slideshow": {
     "slide_type": "-"
    }
   },
   "outputs": [
    {
     "name": "stdout",
     "output_type": "stream",
     "text": [
      "103 total features after one-hot encoding.\n",
      "['age', 'education-num', 'capital-gain', 'capital-loss', 'hours-per-week', 'workclass_ Federal-gov', 'workclass_ Local-gov', 'workclass_ Private', 'workclass_ Self-emp-inc', 'workclass_ Self-emp-not-inc', 'workclass_ State-gov', 'workclass_ Without-pay', 'education_level_ 10th', 'education_level_ 11th', 'education_level_ 12th', 'education_level_ 1st-4th', 'education_level_ 5th-6th', 'education_level_ 7th-8th', 'education_level_ 9th', 'education_level_ Assoc-acdm', 'education_level_ Assoc-voc', 'education_level_ Bachelors', 'education_level_ Doctorate', 'education_level_ HS-grad', 'education_level_ Masters', 'education_level_ Preschool', 'education_level_ Prof-school', 'education_level_ Some-college', 'marital-status_ Divorced', 'marital-status_ Married-AF-spouse', 'marital-status_ Married-civ-spouse', 'marital-status_ Married-spouse-absent', 'marital-status_ Never-married', 'marital-status_ Separated', 'marital-status_ Widowed', 'occupation_ Adm-clerical', 'occupation_ Armed-Forces', 'occupation_ Craft-repair', 'occupation_ Exec-managerial', 'occupation_ Farming-fishing', 'occupation_ Handlers-cleaners', 'occupation_ Machine-op-inspct', 'occupation_ Other-service', 'occupation_ Priv-house-serv', 'occupation_ Prof-specialty', 'occupation_ Protective-serv', 'occupation_ Sales', 'occupation_ Tech-support', 'occupation_ Transport-moving', 'relationship_ Husband', 'relationship_ Not-in-family', 'relationship_ Other-relative', 'relationship_ Own-child', 'relationship_ Unmarried', 'relationship_ Wife', 'race_ Amer-Indian-Eskimo', 'race_ Asian-Pac-Islander', 'race_ Black', 'race_ Other', 'race_ White', 'sex_ Female', 'sex_ Male', 'native-country_ Cambodia', 'native-country_ Canada', 'native-country_ China', 'native-country_ Columbia', 'native-country_ Cuba', 'native-country_ Dominican-Republic', 'native-country_ Ecuador', 'native-country_ El-Salvador', 'native-country_ England', 'native-country_ France', 'native-country_ Germany', 'native-country_ Greece', 'native-country_ Guatemala', 'native-country_ Haiti', 'native-country_ Holand-Netherlands', 'native-country_ Honduras', 'native-country_ Hong', 'native-country_ Hungary', 'native-country_ India', 'native-country_ Iran', 'native-country_ Ireland', 'native-country_ Italy', 'native-country_ Jamaica', 'native-country_ Japan', 'native-country_ Laos', 'native-country_ Mexico', 'native-country_ Nicaragua', 'native-country_ Outlying-US(Guam-USVI-etc)', 'native-country_ Peru', 'native-country_ Philippines', 'native-country_ Poland', 'native-country_ Portugal', 'native-country_ Puerto-Rico', 'native-country_ Scotland', 'native-country_ South', 'native-country_ Taiwan', 'native-country_ Thailand', 'native-country_ Trinadad&Tobago', 'native-country_ United-States', 'native-country_ Vietnam', 'native-country_ Yugoslavia']\n"
     ]
    }
   ],
   "source": [
    "features_final = pd.get_dummies(features_raw)\n",
    "f = lambda s: 0 if s == '<=50K' else 1\n",
    "income = income_raw.map(f)\n",
    "\n",
    "# Print the number of features after one-hot encoding\n",
    "encoded = list(features_final.columns)\n",
    "print(\"{} total features after one-hot encoding.\".format(len(encoded)))\n",
    "\n",
    "\n",
    "print(encoded)"
   ]
  },
  {
   "cell_type": "markdown",
   "metadata": {
    "ein.tags": "worksheet-0",
    "slideshow": {
     "slide_type": "-"
    }
   },
   "source": [
    "### Shuffle and Split Data\n",
    "\n",
    "Now all _categorical variables_ have been converted into numerical features, and\n",
    "all numerical features have been normalized. As always, we will now split the\n",
    "data (both features and their labels) into training and test sets. 80% of the\n",
    "data will be used for training and 20% for testing.\n",
    "\n",
    "Run the code cell below to perform this split."
   ]
  },
  {
   "cell_type": "code",
   "execution_count": 20,
   "metadata": {
    "autoscroll": false,
    "collapsed": false,
    "ein.tags": "worksheet-0",
    "slideshow": {
     "slide_type": "-"
    }
   },
   "outputs": [
    {
     "name": "stdout",
     "output_type": "stream",
     "text": [
      "Training set has 36177 samples.\n",
      "Testing set has 9045 samples.\n"
     ]
    }
   ],
   "source": [
    "# Import train_test_split\n",
    "from sklearn.model_selection import train_test_split\n",
    "\n",
    " \n",
    "# Split the 'features' and 'income' data into training and testing sets\n",
    "X_train, X_test, y_train, y_test = train_test_split(\n",
    "    features_final, income, test_size = 0.2, \n",
    "    random_state = 0)\n",
    "\n",
    "# Show the results of the split\n",
    "print(\"Training set has {} samples.\".format(X_train.shape[0]))\n",
    "print(\"Testing set has {} samples.\".format(X_test.shape[0]))"
   ]
  },
  {
   "cell_type": "markdown",
   "metadata": {
    "ein.tags": "worksheet-0",
    "slideshow": {
     "slide_type": "-"
    }
   },
   "source": [
    "----\n",
    "## Evaluating Model Performance\n",
    "\n",
    "In this section, we will investigate four different algorithms, and determine\n",
    "which is best at modeling the data. Three of these algorithms will be supervised\n",
    "learners of your choice, and the fourth algorithm is known as a *naive\n",
    "predictor*."
   ]
  },
  {
   "cell_type": "markdown",
   "metadata": {
    "ein.tags": "worksheet-0",
    "slideshow": {
     "slide_type": "-"
    }
   },
   "source": [
    "### Metrics and the Naive Predictor\n",
    "*CharityML*, equipped with their research, knows individuals that make more than\n",
    " \\$50,000 are most likely to donate to their charity. Because of this,\n",
    " *CharityML* is particularly interested in predicting who makes more than\n",
    " \\$50,000 accurately. It would seem that using **accuracy** as a metric for\n",
    " evaluating a particular model's performace would be appropriate. Additionally,\n",
    " identifying someone that *does not* make more than \\$50,000 as someone who does\n",
    " would be detrimental to *CharityML*, since they are looking to find individuals\n",
    " willing to donate. Therefore, a model's ability to precisely predict those that\n",
    " make more than \\$50,000 is *more important* than the model's ability to\n",
    " **recall** those individuals. We can use **F-beta score** as a metric that\n",
    " considers both precision and recall:\n",
    "\n",
    "$$ F_{\\beta} = (1 + \\beta^2) \\cdot \\frac{precision \\cdot recall}{\\left( \\beta^2 \\cdot precision \\right) + recall} $$\n",
    "\n",
    "In particular, when $\\beta = 0.5$, more emphasis is placed on precision. This is\n",
    "called the **F$_{0.5}$ score** (or F-score for simplicity).\n",
    "\n",
    "Looking at the distribution of classes (those who make at most \\$50,000, and\n",
    "those who make more), it's clear most individuals do not make more than\n",
    "\\$50,000. This can greatly affect **accuracy**, since we could simply say *\"this\n",
    "person does not make more than \\$50,000\"* and generally be right, without ever\n",
    "looking at the data! Making such a statement would be called **naive**, since we\n",
    "have not considered any information to substantiate the claim. It is always\n",
    "important to consider the *naive prediction* for your data, to help establish a\n",
    "benchmark for whether a model is performing well. That been said, using that\n",
    "prediction would be pointless: If we predicted all people made less than\n",
    "\\$50,000, *CharityML* would identify no one as donors.\n",
    "\n",
    "\n",
    "#### Note: Recap of accuracy, precision, recall\n",
    "\n",
    "** Accuracy ** measures how often the classifier makes the correct prediction.\n",
    "It’s the ratio of the number of correct predictions to the total number of\n",
    "preadictions (the number of test data points).\n",
    "\n",
    "** Precision ** tells us what proportion of messages we classified as spam,\n",
    "actually were spam. It is a ratio of true positives(words classified as spam,\n",
    "and which are actually spam) to all positives(all words classified as spam,\n",
    "irrespective of whether that was the correct classificatio), in other words it\n",
    "is the ratio of\n",
    "\n",
    "`[True Positives/(True Positives + False Positives)]`\n",
    "\n",
    "** Recall(sensitivity)** tells us what proportion of messages that actually were\n",
    "spam were classified by us as spam. It is a ratio of true positives(words\n",
    "classified as spam, and which are actually spam) to all the words that were\n",
    "actually spam, in other words it is the ratio of\n",
    "\n",
    "`[True Positives/(True Positives + False Negatives)]`\n",
    "\n",
    "For classification problems that are skewed in their classification\n",
    "distributions like in our case, for example if we had a 100 text messages and\n",
    "only 2 were spam and the rest 98 weren't, accuracy by itself is not a very good\n",
    "metric. We could classify 90 messages as not spam(including the 2 that were spam\n",
    "but we classify them as not spam, hence they would be false negatives) and 10 as\n",
    "spam(all 10 false positives) and still get a reasonably good accuracy score. For\n",
    "such cases, precision and recall come in very handy. These two metrics can be\n",
    "combined to get the F1 score, which is weighted average(harmonic mean) of the\n",
    "precision and recall scores. This score can range from 0 to 1, with 1 being the\n",
    "best possible F1 score(we take the harmonic mean as we are dealing with ratios)."
   ]
  },
  {
   "cell_type": "markdown",
   "metadata": {
    "ein.tags": "worksheet-0",
    "slideshow": {
     "slide_type": "-"
    }
   },
   "source": [
    "### Question 1 - Naive Predictor Performance\n",
    "\n",
    "* If we chose a model that always predicted an individual made more than\n",
    "  $50,000, what would that model's accuracy and F-score be on this dataset? You\n",
    "  must use the code cell below and assign your results to `'accuracy'` and\n",
    "  `'fscore'` to be used later.\n",
    "\n",
    "** Please note ** that the the purpose of generating a naive predictor is simply\n",
    "   to show what a base model without any intelligence would look like. In the\n",
    "   real world, ideally your base model would be either the results of a previous\n",
    "   model or could be based on a research paper upon which you are looking to\n",
    "   improve. When there is no benchmark model set, getting a result better than\n",
    "   random choice is a place you could start from.\n",
    "\n",
    "** HINT: **\n",
    "\n",
    "* When we have a model that always predicts '1' (i.e. the individual makes more\n",
    "  than 50k) then our model will have no True Negatives(TN) or False\n",
    "  Negatives(FN) as we are not making any negative('0' value) predictions.\n",
    "  Therefore our Accuracy in this case becomes the same as our Precision(True\n",
    "  Positives/(True Positives + False Positives)) as every prediction that we have\n",
    "  made with value '1' that should have '0' becomes a False Positive; therefore\n",
    "  our denominator in this case is the total number of records we have in total.\n",
    "\n",
    "* Our Recall score(True Positives/(True Positives + False Negatives)) in this\n",
    "  setting becomes 1 as we have no False Negatives."
   ]
  },
  {
   "cell_type": "code",
   "execution_count": 21,
   "metadata": {
    "autoscroll": false,
    "collapsed": false,
    "ein.tags": "worksheet-0",
    "slideshow": {
     "slide_type": "-"
    }
   },
   "outputs": [
    {
     "name": "stdout",
     "output_type": "stream",
     "text": [
      "Naive Predictor: [Accuracy score: 0.2478, F-score: 0.2917]\n"
     ]
    }
   ],
   "source": [
    "'''\n",
    "TP = np.sum(income) # Counting the ones as this is the naive case. Note that\n",
    "'income' is the 'income_raw' data encoded to numerical values done in the data\n",
    "preprocessing step.\n",
    "FP = income.count() - TP # Specific to the naive case\n",
    "TN = 0 # No predicted negatives in the naive case\n",
    "FN = 0 # No predicted negatives in the naive case\n",
    "'''\n",
    "true_positive = np.sum(income)\n",
    "false_positive = income.count() - true_positive\n",
    "\n",
    "true_negative, false_negative = 0, 0\n",
    "\n",
    "accuracy = true_positive/(true_positive+ false_positive)\n",
    "recall = true_positive/(true_positive + false_negative)\n",
    "precision = true_positive/(true_positive + false_positive)\n",
    "\n",
    "beta = 0.5\n",
    "fscore = (1+beta**2) * (precision*recall) / ((beta**2)*precision + recall)\n",
    "\n",
    "# Print the results \n",
    "print(\"Naive Predictor: [Accuracy score: {:.4f}, F-score: {:.4f}]\".format(accuracy, fscore)) "
   ]
  },
  {
   "cell_type": "markdown",
   "metadata": {
    "ein.tags": "worksheet-0",
    "slideshow": {
     "slide_type": "-"
    }
   },
   "source": [
    "###  Supervised Learning Models\n",
    "**The following are some of the supervised learning models that are currently\n",
    "  available in**\n",
    "  [`scikit-learn`](http://scikit-learn.org/stable/supervised_learning.html)\n",
    "  **that you may choose from:**\n",
    "- Gaussian Naive Bayes (GaussianNB)\n",
    "- Decision Trees\n",
    "- Ensemble Methods (Bagging, AdaBoost, Random Forest, Gradient Boosting)\n",
    "- K-Nearest Neighbors (KNeighbors)\n",
    "- Stochastic Gradient Descent Classifier (SGDC)\n",
    "- Support Vector Machines (SVM)\n",
    "- Logistic Regression"
   ]
  },
  {
   "cell_type": "markdown",
   "metadata": {
    "ein.tags": "worksheet-0",
    "slideshow": {
     "slide_type": "-"
    }
   },
   "source": [
    "### Question 2 - Model Application \n",
    "\n",
    "List three of the supervised learning models above that are appropriate for this\n",
    "problem that you will test on the census data. For each model chosen\n",
    "\n",
    "- Describe one real-world application in industry where the model can be applied. \n",
    "- What are the strengths of the model; when does it perform well?\n",
    "- What are the weaknesses of the model; when does it perform poorly?\n",
    "- What makes this model a good candidate for the problem, given what you know\n",
    "  about the data?\n",
    "\n",
    "** HINT: **\n",
    "\n",
    "Structure your answer in the same format as above^, with 4 parts for each of the\n",
    "three models you pick. Please include references with your answer."
   ]
  },
  {
   "cell_type": "markdown",
   "metadata": {
    "ein.tags": "worksheet-0",
    "slideshow": {
     "slide_type": "-"
    }
   },
   "source": [
    "**Answer: **\n",
    "\n",
    "##### Logistic Classifier\n",
    "\n",
    "Logistic classifiers are one of the first model to be taught to learn how to\n",
    "classify labels given features.\n",
    "\n",
    "1. According to these models are used widely in medical and social sciences.\n",
    "2. The model performs well, when there exists a linear hyperplane that can\n",
    "separate the classes, that is the label output. One strength of the model is its\n",
    "interpretation as the value of the parameters depicts the strength of the\n",
    "relationship between the features dimension and the target.\n",
    "3. This model performs poorly when nonlinear combination of the features are\n",
    "responsible of the value of the target variable.\n",
    "4. Logistic classifiers provides a good baseilne to compare more advanced models\n",
    "and provide some intuition. Moreover, it allows the analyst to understand the\n",
    "outputs of the model thanks to its simplicity.\n",
    "\n",
    "##### Gradient Tree Boosting models\n",
    "\n",
    "Gradient Tree Boosting models are a generalization of boosting to arbitrary\n",
    "differentiable loss function.\n",
    "\n",
    "1. Gradient Tree Boosting models are used in Web search ranking and ecology.\n",
    "2. It has strong predictive power (as it is a boosting method) and prediction\n",
    "are robust to outliers.\n",
    "3. Training time can take considerable amount of time as the algorithm is\n",
    "essentially sequential.\n",
    "4. With random forests, gradient tree boosting are the methods that tends to\n",
    "have the highest capacity. As we are mainly interested in prediction power, we\n",
    "can omit some transparency about the logic of the predictions. \n",
    "\n",
    "##### Random Forest\n",
    "\n",
    "1. Random Forests are used as one of the most standard blackbox model in the\n",
    "industry. They are used in the video games industry for improving their AI, but\n",
    "also in Finance related to client credit rating.\n",
    "2. Random Forests excel when features are highly correlated and their\n",
    "relationship with the target variable is non linear. They usually tend to do\n",
    "better on classification task than regression task. And their training time is\n",
    "usually small. It tends to reduce overfitting thanks to subsampling mechanic.\n",
    "3. Prediction run-time might be too high for some applications and the mechanics\n",
    "or logic of an output of a random forest model are \"incomprehensible\": it is\n",
    "quite difficult to understand why the model output its decisions. It tends to do\n",
    "poorly on regression task as well.\n",
    "4. Random forest are one of the most widely used model with a really high\n",
    "capacity.\n",
    "\n",
    "Reference:\n",
    "\n",
    " - [Quora discussion about Random Forest](https://www.quora.com/When-is-a-random-forest-a-poor-choice-relative-to-other-algorithms)\n",
    " - [Wikipedia Logistic Classification](https://en.wikipedia.org/wiki/Logistic_regression)\n",
    " - [datascience stackexchange on SVM](https://datascience.stackexchange.com/questions/711/are-support-vector-machines-still-considered-state-of-the-art-in-their-niche)\n",
    " - [Scikit documentation for Gaussian NaiveBayes](http://scikit-learn.org/stable/modules/naive_bayes.html)\n",
    " - [Scikit Documentation for SVM](http://scikit-learn.org/stable/modules/svm.html)\n",
    " - [Reddit Discussion about SVM](https://www.reddit.com/r/MachineLearning/comments/3zqwbc/where_do_support_vector_machines_perform_badly/)"
   ]
  },
  {
   "cell_type": "markdown",
   "metadata": {
    "ein.tags": "worksheet-0",
    "slideshow": {
     "slide_type": "-"
    }
   },
   "source": [
    "### Implementation - Creating a Training and Predicting Pipeline\n",
    "\n",
    "To properly evaluate the performance of each model you've chosen, it's important\n",
    "that you create a training and predicting pipeline that allows you to quickly\n",
    "and effectively train models using various sizes of training data and perform\n",
    "predictions on the testing data. Your implementation here will be used in the\n",
    "following section.\n",
    "In the code block below, you will need to implement the following:\n",
    " - Import `fbeta_score` and `accuracy_score` from [`sklearn.metrics`](http://scikit-learn.org/stable/modules/classes.html#sklearn-metrics-metrics).\n",
    " - Fit the learner to the sampled training data and record the training time.\n",
    " - Perform predictions on the test data `X_test`, and also on the first 300 training points `X_train[:300]`.\n",
    "   - Record the total prediction time.\n",
    " - Calculate the accuracy score for both the training subset and testing set.\n",
    " - Calculate the F-score for both the training subset and testing set.\n",
    "   - Make sure that you set the `beta` parameter!"
   ]
  },
  {
   "cell_type": "code",
   "execution_count": 22,
   "metadata": {
    "autoscroll": false,
    "collapsed": false,
    "ein.tags": "worksheet-0",
    "slideshow": {
     "slide_type": "-"
    }
   },
   "outputs": [],
   "source": [
    "from sklearn.metrics import fbeta_score, accuracy_score\n",
    "\n",
    "def train_predict(learner, sample_size, X_train, y_train, X_test, y_test): \n",
    "    '''\n",
    "    inputs:\n",
    "       - learner: the learning algorithm to be trained and predicted on\n",
    "       - sample_size: the size of samples (number) to be drawn from training set\n",
    "       - X_train: features training set\n",
    "       - y_train: income training set\n",
    "       - X_test: features testing set\n",
    "       - y_test: income testing set\n",
    "    '''\n",
    "\n",
    "    results = {}\n",
    "    \n",
    "    start = time() # Get start time\n",
    "    learner = learner.fit(X_train[:sample_size], y_train[:sample_size])\n",
    "    end = time() # Get end time\n",
    "\n",
    "    results['train_time'] = end - start\n",
    "\n",
    "    # TODO: Get the predictions on the test set(X_test),\n",
    "    #       then get predictions on the first 300 training samples(X_train) using .predict()\n",
    "    start = time() # Get start time\n",
    "    predictions_test = learner.predict(X_test)\n",
    "    predictions_train = learner.predict(X_train[:300])\n",
    "    end = time() # Get end time\n",
    "\n",
    "    results['pred_time'] = end - start\n",
    "    results['acc_train'] = accuracy_score(y_pred=predictions_train, y_true=y_train[:300])\n",
    "    results['acc_test'] = accuracy_score(y_pred=predictions_test, y_true=y_test)\n",
    "    results['f_train'] = fbeta_score(beta=0.5, y_pred=predictions_train, y_true=y_train[:300])\n",
    "    results['f_test'] = fbeta_score(beta=0.5, y_pred=predictions_test, y_true=y_test)\n",
    "\n",
    "    # Success\n",
    "    print(\"{} trained on {} samples.\".format(learner.__class__.__name__, sample_size))\n",
    "\n",
    "    # Return the results\n",
    "    return results"
   ]
  },
  {
   "cell_type": "markdown",
   "metadata": {
    "ein.tags": "worksheet-0",
    "slideshow": {
     "slide_type": "-"
    }
   },
   "source": [
    "### Implementation: Initial Model Evaluation\n",
    "In the code cell, you will need to implement the following:\n",
    "- Import the three supervised learning models you've discussed in the previous\n",
    "  section.\n",
    "- Initialize the three models and store them in `'clf_A'`, `'clf_B'`, and\n",
    "   `'clf_C'`. Use a `'random_state'` for each model you use, if provided.\n",
    "   **Note:** Use the default settings for each model — you will tune one\n",
    "   specific model in a later section. Calculate the number of records equal to\n",
    "   1%, 10%, and 100% of the training data. Store those values in `'samples_1'`,\n",
    "   `'samples_10'`, and `'samples_100'` respectively.\n",
    "\n",
    "**Note:** Depending on which algorithms you chose, the following implementation\n",
    "  may take some time to run!"
   ]
  },
  {
   "cell_type": "markdown",
   "metadata": {
    "ein.tags": "worksheet-0",
    "slideshow": {
     "slide_type": "-"
    }
   },
   "source": [
    "----\n",
    "## Improving Results\n",
    "\n",
    "In this final section, you will choose from the three supervised learning models\n",
    "the *best* model to use on the student data. You will then perform a grid search\n",
    "optimization for the model over the entire training set (`X_train` and\n",
    "`y_train`) by tuning at least one parameter to improve upon the untuned model's\n",
    "F-score. "
   ]
  },
  {
   "cell_type": "code",
   "execution_count": 24,
   "metadata": {
    "autoscroll": false,
    "collapsed": false,
    "ein.tags": "worksheet-0",
    "slideshow": {
     "slide_type": "-"
    }
   },
   "outputs": [
    {
     "name": "stdout",
     "output_type": "stream",
     "text": [
      "LogisticRegression trained on 362 samples.\n",
      "LogisticRegression trained on 3618 samples.\n"
     ]
    },
    {
     "name": "stdout",
     "output_type": "stream",
     "text": [
      "LogisticRegression trained on 36177 samples.\n",
      "GradientBoostingClassifier trained on 362 samples.\n"
     ]
    },
    {
     "name": "stdout",
     "output_type": "stream",
     "text": [
      "GradientBoostingClassifier trained on 3618 samples.\n"
     ]
    },
    {
     "name": "stdout",
     "output_type": "stream",
     "text": [
      "GradientBoostingClassifier trained on 36177 samples.\n",
      "RandomForestClassifier trained on 362 samples.\n",
      "RandomForestClassifier trained on 3618 samples.\n"
     ]
    },
    {
     "name": "stdout",
     "output_type": "stream",
     "text": [
      "RandomForestClassifier trained on 36177 samples.\n"
     ]
    },
    {
     "data": {
      "image/png": "[encoded data removed]",
      "text/plain": [
       "<matplotlib.figure.Figure at 0x7fc5708745c0>"
      ]
     },
     "metadata": {},
     "output_type": "display_data"
    }
   ],
   "source": [
    "from sklearn import linear_model\n",
    "from sklearn import svm\n",
    "from sklearn import ensemble\n",
    "from sklearn.naive_bayes import GaussianNB\n",
    "\n",
    "RANDOM_STATE = 1\n",
    "clf_A = linear_model.LogisticRegression()\n",
    "clf_B = ensemble.GradientBoostingClassifier(random_state = RANDOM_STATE) # GaussianNB() #  # linear_model.LogisticRegression() # \n",
    "clf_C = ensemble.RandomForestClassifier(random_state = RANDOM_STATE)\n",
    "\n",
    "samples_100 = len(y_train)\n",
    "samples_10 = round(1/10.0*len(y_train))\n",
    "samples_1 = round(1/100.0*len(y_train))\n",
    "\n",
    "# Collect results on the learners\n",
    "clfs = [clf_A, clf_B, clf_C]\n",
    "def fit_classifiers(clfs):\n",
    "    results = {}\n",
    "    for clf in [clf_A, clf_B, clf_C]:\n",
    "        clf_name = clf.__class__.__name__\n",
    "        results[clf_name] = {}\n",
    "        for i, samples in enumerate([samples_1, samples_10, samples_100]):\n",
    "            results[clf_name][i] = \\\n",
    "            train_predict(clf, samples, X_train, y_train, X_test, y_test)\n",
    "    return results\n",
    "\n",
    "results = fit_classifiers(clfs)\n",
    "# Run metrics visualization for the three supervised learning models chosen\n",
    "vs.evaluate(results, accuracy, fscore)\n"
   ]
  },
  {
   "cell_type": "markdown",
   "metadata": {
    "ein.tags": "worksheet-0",
    "slideshow": {
     "slide_type": "-"
    }
   },
   "source": [
    "### Question 3 - Choosing the Best Model\n",
    "\n",
    "* Based on the evaluation you performed earlier, in one to two paragraphs,\n",
    "  explain to *CharityML* which of the three models you believe to be most\n",
    "  appropriate for the task of identifying individuals that make more than\n",
    "  \\$50,000.\n",
    "\n",
    "** HINT: ** \n",
    "\n",
    "Look at the graph at the bottom left from the cell above(the visualization\n",
    "created by `vs.evaluate(results, accuracy, fscore)`) and check the F score for\n",
    "the testing set when 100% of the training set is used. Which model has the\n",
    "highest score? Your answer should include discussion of the:\n",
    "\n",
    "* metrics - F score on the testing when 100% of the training data is used, \n",
    "* prediction/training time\n",
    "* the algorithm's suitability for the data."
   ]
  },
  {
   "cell_type": "markdown",
   "metadata": {
    "ein.tags": "worksheet-0",
    "slideshow": {
     "slide_type": "-"
    }
   },
   "source": [
    "I believe that Gradient Boosting Tree is the best algorithm for the task. The\n",
    "reason is that its training time is still reasonable and its predictions time as\n",
    "well.\n",
    "\n",
    "Although that it does not achieve the highest F score on training data, it does\n",
    "posses on the whole test data. "
   ]
  },
  {
   "cell_type": "markdown",
   "metadata": {
    "ein.tags": "worksheet-0",
    "slideshow": {
     "slide_type": "-"
    }
   },
   "source": [
    "### Question 4 - Describing the Model in Layman's Terms\n",
    "\n",
    "* In one to two paragraphs, explain to *CharityML*, in layman's terms, how the\n",
    "  final model chosen is supposed to work. Be sure that you are describing the\n",
    "  major qualities of the model, such as how the model is trained and how the\n",
    "  model makes a prediction. Avoid using advanced mathematical jargon, such as\n",
    "  describing equations.\n",
    "\n",
    "** HINT: **\n",
    "\n",
    "When explaining your model, if using external resources please include all\n",
    "citations."
   ]
  },
  {
   "cell_type": "markdown",
   "metadata": {
    "ein.tags": "worksheet-0",
    "slideshow": {
     "slide_type": "-"
    }
   },
   "source": [
    "Gradient Boosting starts by making simple predictions and refines its\n",
    "predictions by learning to reduce the errors of its past predictions. \n",
    "\n",
    "The algorithms refines its predictions by adding learners (known as \"decision\n",
    "trees\") whose goal is to correct the wrong prediction of the previous learners.\n",
    "By adding more and more learners, the combined predictions of all learners\n",
    "creates complicated mapping between the data (e.g sex, age, years of studies )\n",
    "and the income class.\n",
    "\n",
    "Moreover, several mechanisms are implemented by default to prevent the\n",
    "model to only memorize the data and increases its generalization's ability.\n",
    "\n",
    "[Description with mathematical terms](http://blog.kaggle.com/2017/01/23/a-kaggle-master-explains-gradient-boosting/)   \n"
   ]
  },
  {
   "cell_type": "markdown",
   "metadata": {
    "ein.tags": "worksheet-0",
    "slideshow": {
     "slide_type": "-"
    }
   },
   "source": [
    "### Implementation: Model Tuning\n",
    "\n",
    "Fine tune the chosen model. Use grid search (`GridSearchCV`) with at least one\n",
    "important parameter tuned with at least 3 different values. You will need to use\n",
    "the entire training set for this. In the code cell below, you will need to\n",
    "implement the following:\n",
    "- Import\n",
    "  [`sklearn.grid_search.GridSearchCV`](http://scikit-learn.org/0.17/modules/generated/sklearn.grid_search.GridSearchCV.html)\n",
    "  and\n",
    "  [`sklearn.metrics.make_scorer`](http://scikit-learn.org/stable/modules/generated/sklearn.metrics.make_scorer.html).\n",
    "- Initialize the classifier you've chosen and store it in `clf`.\n",
    "- Set a `random_state` if one is available to the same state you set before.\n",
    "- Create a dictionary of parameters you wish to tune for the chosen model.\n",
    " - Example: `parameters = {'parameter' : [list of values]}`.\n",
    " - **Note:** Avoid tuning the `max_features` parameter of your learner if that\n",
    "     parameter is available!\n",
    "- Use `make_scorer` to create an `fbeta_score` scoring object (with $\\beta =\n",
    "  0.5$).\n",
    "- Perform grid search on the classifier `clf` using the `'scorer'`, and store it\n",
    "  in `grid_obj`.\n",
    "- Fit the grid search object to the training data (`X_train`, `y_train`), and\n",
    "  store it in `grid_fit`.\n",
    "\n",
    "**Note:** Depending on the algorithm chosen and the parameter list, the\n",
    "  following implementation may take some time to run!"
   ]
  },
  {
   "cell_type": "code",
   "execution_count": 25,
   "metadata": {
    "autoscroll": false,
    "collapsed": false,
    "ein.tags": "worksheet-0",
    "slideshow": {
     "slide_type": "-"
    }
   },
   "outputs": [
    {
     "name": "stderr",
     "output_type": "stream",
     "text": [
      "/usr/local/lib/python3.5/dist-packages/sklearn/cross_validation.py:41: DeprecationWarning: This module was deprecated in version 0.18 in favor of the model_selection module into which all the refactored classes and functions are moved. Also note that the interface of the new CV iterators are different from that of this module. This module will be removed in 0.20.\n",
      "  \"This module will be removed in 0.20.\", DeprecationWarning)\n",
      "/usr/local/lib/python3.5/dist-packages/sklearn/grid_search.py:42: DeprecationWarning: This module was deprecated in version 0.18 in favor of the model_selection module into which all the refactored classes and functions are moved. This module will be removed in 0.20.\n",
      "  DeprecationWarning)\n"
     ]
    },
    {
     "name": "stdout",
     "output_type": "stream",
     "text": [
      "Unoptimized model\n",
      "------\n",
      "Accuracy score on testing data: 0.8630\n",
      "F-score on testing data: 0.7395\n",
      "\n",
      "Optimized Model\n",
      "------\n",
      "Final accuracy score on the testing data: 0.8700\n",
      "Final F-score on the testing data: 0.7510\n"
     ]
    }
   ],
   "source": [
    "from sklearn.grid_search import GridSearchCV\n",
    "from sklearn.metrics import make_scorer\n",
    "\n",
    "clf = ensemble.GradientBoostingClassifier(random_state=RANDOM_STATE)\n",
    "parameters = {'max_depth': [3, 5], 'learning_rate':[0.05, 0.1, 0.2],\n",
    "              'n_estimators': [50, 100, 200]}\n",
    "scorer = make_scorer(fbeta_score, beta=0.5)\n",
    "grid_obj = GridSearchCV(clf, parameters, scorer, n_jobs=2)\n",
    "grid_fit = grid_obj.fit(X_train, y_train)\n",
    "best_clf = grid_fit.best_estimator_\n",
    "predictions = (clf.fit(X_train, y_train)).predict(X_test)\n",
    "best_predictions = best_clf.predict(X_test)\n",
    "\n",
    "print(\"Unoptimized model\\n------\")\n",
    "print(\"Accuracy score on testing data: {:.4f}\".format(accuracy_score(y_test, predictions)))\n",
    "print(\"F-score on testing data: {:.4f}\".format(fbeta_score(y_test, predictions, beta = 0.5)))\n",
    "print(\"\\nOptimized Model\\n------\")\n",
    "print(\"Final accuracy score on the testing data: {:.4f}\".format(accuracy_score(y_test, best_predictions)))\n",
    "print(\"Final F-score on the testing data: {:.4f}\".format(fbeta_score(y_test, best_predictions, beta = 0.5)))"
   ]
  },
  {
   "cell_type": "markdown",
   "metadata": {
    "ein.tags": "worksheet-0",
    "slideshow": {
     "slide_type": "-"
    }
   },
   "source": [
    "### Question 5 - Final Model Evaluation\n",
    "\n",
    "* What is your optimized model's accuracy and F-score on the testing data? \n",
    "* Are these scores better or worse than the unoptimized model? \n",
    "* How do the results from your optimized model compare to the naive predictor benchmarks you found earlier in **Question 1**?_  \n",
    "\n",
    "**Note:** Fill in the table below with your results, and then provide discussion in the **Answer** box."
   ]
  },
  {
   "cell_type": "markdown",
   "metadata": {
    "ein.tags": "worksheet-0",
    "slideshow": {
     "slide_type": "-"
    }
   },
   "source": [
    "#### Results:\n",
    "\n",
    "|     Metric     | Unoptimized Model | Optimized Model |\n",
    "| :------------: | :---------------: | :-------------: | \n",
    "| Accuracy Score | 0.8630            |   0.8700        |\n",
    "| F-score        | 0.7395            |   0.7510        |\n"
   ]
  },
  {
   "cell_type": "markdown",
   "metadata": {
    "ein.tags": "worksheet-0",
    "slideshow": {
     "slide_type": "-"
    }
   },
   "source": [
    "The score from optimized models are better than those from optimized ones. These\n",
    "results are much better than those from the baseline from around 24% for both\n",
    "the accurancy and the F-score."
   ]
  },
  {
   "cell_type": "markdown",
   "metadata": {
    "ein.tags": "worksheet-0",
    "slideshow": {
     "slide_type": "-"
    }
   },
   "source": [
    "----\n",
    "## Feature Importance\n",
    "\n",
    "An important task when performing supervised learning on a dataset like the\n",
    "census data we study here is determining which features provide the most\n",
    "predictive power. By focusing on the relationship between only a few crucial\n",
    "features and the target label we simplify our understanding of the phenomenon,\n",
    "which is most always a useful thing to do. In the case of this project, that\n",
    "means we wish to identify a small number of features that most strongly predict\n",
    "whether an individual makes at most or more than \\$50,000.\n",
    "\n",
    "Choose a scikit-learn classifier (e.g., adaboost, random forests) that has a\n",
    "`feature_importance_` attribute, which is a function that ranks the importance\n",
    "of features according to the chosen classifier. In the next python cell fit this\n",
    "classifier to training set and use this attribute to determine the top 5 most\n",
    "important features for the census dataset."
   ]
  },
  {
   "cell_type": "markdown",
   "metadata": {
    "ein.tags": "worksheet-0",
    "slideshow": {
     "slide_type": "-"
    }
   },
   "source": [
    "### Question 6 - Feature Relevance Observation\n",
    "When **Exploring the Data**, it was shown there are thirteen available features for each individual on record in the census data. Of these thirteen records, which five features do you believe to be most important for prediction, and in what order would you rank them and why?"
   ]
  },
  {
   "cell_type": "markdown",
   "metadata": {
    "ein.tags": "worksheet-0",
    "slideshow": {
     "slide_type": "-"
    }
   },
   "source": [
    "I believe the most important features (in order of importance) are capital gain\n",
    "and loss, number of year of education, age and sex. The reason is these are\n",
    "commonly accepted predictors of the stereotype of wealthy individuals: those\n",
    "with big capital gain and few capital loss should be wealthy, those who pursued\n",
    "and completed advanced studies. Age is a proxy for number of years of\n",
    "professional experience and the sex might be useful as there still exists some\n",
    "pay gap in some domains."
   ]
  },
  {
   "cell_type": "markdown",
   "metadata": {
    "ein.tags": "worksheet-0",
    "slideshow": {
     "slide_type": "-"
    }
   },
   "source": [
    "### Implementation - Extracting Feature Importance\n",
    "Choose a `scikit-learn` supervised learning algorithm that has a `feature_importance_` attribute availble for it. This attribute is a function that ranks the importance of each feature when making predictions based on the chosen algorithm.\n",
    "\n",
    "In the code cell below, you will need to implement the following:\n",
    " - Import a supervised learning model from sklearn if it is different from the three used earlier.\n",
    " - Train the supervised model on the entire training set.\n",
    " - Extract the feature importances using `'.feature_importances_'`."
   ]
  },
  {
   "cell_type": "code",
   "execution_count": 27,
   "metadata": {
    "autoscroll": false,
    "collapsed": false,
    "ein.tags": "worksheet-0",
    "slideshow": {
     "slide_type": "-"
    }
   },
   "outputs": [
    {
     "data": {
      "image/png": "[encoded data removed]",
      "text/plain": [
       "<matplotlib.figure.Figure at 0x7fc5706845c0>"
      ]
     },
     "metadata": {},
     "output_type": "display_data"
    }
   ],
   "source": [
    "model = best_clf\n",
    "importances = model.feature_importances_\n",
    "# Plot\n",
    "vs.feature_plot(importances, X_train, y_train)"
   ]
  },
  {
   "cell_type": "markdown",
   "metadata": {
    "ein.tags": "worksheet-0",
    "slideshow": {
     "slide_type": "-"
    }
   },
   "source": [
    "### Question 7 - Extracting Feature Importance\n",
    "\n",
    "Observe the visualization created above which displays the five most relevant features for predicting if an individual makes at most or above \\$50,000.  \n",
    "* How do these five features compare to the five features you discussed in **Question 6**?\n",
    "* If you were close to the same answer, how does this visualization confirm your thoughts? \n",
    "* If you were not close, why do you think these features are more relevant?"
   ]
  },
  {
   "cell_type": "markdown",
   "metadata": {
    "ein.tags": "worksheet-0",
    "slideshow": {
     "slide_type": "-"
    }
   },
   "source": [
    "Many are similar to the predictions. The visualisation confirm that the 5 most\n",
    "important features have a cumulative weight of approximatively 55%.\n",
    "\n",
    "What was not predicted is that the number of hours of working were good\n",
    "predictors of income. This might be relevant for two reasons: \n",
    "\n",
    "1. Well paid jobs are usually in the service sectors were professionals tends to\n",
    "ignore the number of hours spent in the workplace.\n",
    "2. As most salary are paid on a per hour basis, individuals working few hours\n",
    "tend to earn less.\n"
   ]
  },
  {
   "cell_type": "markdown",
   "metadata": {
    "ein.tags": "worksheet-0",
    "slideshow": {
     "slide_type": "-"
    }
   },
   "source": [
    "### Feature Selection\n",
    "\n",
    "How does a model perform if we only use a subset of all the available features\n",
    "in the data? With less features required to train, the expectation is that\n",
    "training and prediction time is much lower — at the cost of performance metrics.\n",
    "From the visualization above, we see that the top five most important features\n",
    "contribute more than half of the importance of **all** features present in the\n",
    "data. This hints that we can attempt to *reduce the feature space* and simplify\n",
    "the information required for the model to learn. The code cell below will use\n",
    "the same optimized model you found earlier, and train it on the same training\n",
    "set *with only the top five important features*."
   ]
  },
  {
   "cell_type": "code",
   "execution_count": 29,
   "metadata": {
    "autoscroll": false,
    "collapsed": false,
    "ein.tags": "worksheet-0",
    "slideshow": {
     "slide_type": "-"
    }
   },
   "outputs": [
    {
     "name": "stdout",
     "output_type": "stream",
     "text": [
      "Final Model trained on full data\n",
      "------\n",
      "Accuracy on testing data: 0.8700\n",
      "F-score on testing data: 0.7510\n",
      "\n",
      "Final Model trained on reduced data\n",
      "------\n",
      "Accuracy on testing data: 0.8430\n",
      "F-score on testing data: 0.7004\n"
     ]
    }
   ],
   "source": [
    "# Import functionality for cloning a model\n",
    "from sklearn.base import clone\n",
    "\n",
    "# Reduce the feature space\n",
    "X_train_reduced = X_train[X_train.columns.values[(np.argsort(importances)[::-1])[:5]]]\n",
    "X_test_reduced = X_test[X_test.columns.values[(np.argsort(importances)[::-1])[:5]]]\n",
    "\n",
    "# Train on the \"best\" model found from grid search earlier\n",
    "clf = (clone(best_clf)).fit(X_train_reduced, y_train)\n",
    "\n",
    "# Make new predictions\n",
    "reduced_predictions = clf.predict(X_test_reduced)\n",
    "\n",
    "# Report scores from the final model using both versions of data\n",
    "print(\"Final Model trained on full data\\n------\")\n",
    "print(\"Accuracy on testing data: {:.4f}\".format(accuracy_score(y_test, best_predictions)))\n",
    "print(\"F-score on testing data: {:.4f}\".format(fbeta_score(y_test, best_predictions, beta = 0.5)))\n",
    "print(\"\\nFinal Model trained on reduced data\\n------\")\n",
    "print(\"Accuracy on testing data: {:.4f}\".format(accuracy_score(y_test, reduced_predictions)))\n",
    "print(\"F-score on testing data: {:.4f}\".format(fbeta_score(y_test, reduced_predictions, beta = 0.5)))"
   ]
  },
  {
   "cell_type": "markdown",
   "metadata": {
    "ein.tags": "worksheet-0",
    "slideshow": {
     "slide_type": "-"
    }
   },
   "source": [
    "### Question 8 - Effects of Feature Selection\n",
    "\n",
    "* How does the final model's F-score and accuracy score on the reduced data using only five features compare to those same scores when all features are used?\n",
    "* If training time was a factor, would you consider using the reduced data as your training set?"
   ]
  },
  {
   "cell_type": "markdown",
   "metadata": {
    "ein.tags": "worksheet-0",
    "slideshow": {
     "slide_type": "-"
    }
   },
   "source": [
    "The model with fewer features is lose 0.03 point accuracy point and 0.05 point\n",
    "in the F-score. This is still extremely good and can be considered for the\n",
    "charityML.\n",
    "\n",
    "I would also use this model if training time was a factor, but it would depend\n",
    "on the cost of losing 0.03 accuracy and 0.05 F-score point."
   ]
  },
  {
   "cell_type": "markdown",
   "metadata": {
    "ein.tags": "worksheet-0",
    "slideshow": {
     "slide_type": "-"
    }
   },
   "source": [
    "> **Note**: Once you have completed all of the code implementations and successfully answered each question above, you may finalize your work by exporting the iPython Notebook as an HTML document. You can do this by using the menu above and navigating to  \n",
    "**File -> Download as -> HTML (.html)**. Include the finished document along with this notebook as your submission."
   ]
  }
 ],
 "metadata": {
  "kernelspec": {
   "display_name": "Python 3",
   "name": "python3"
  },
  "language_info": {
   "codemirror_mode": {
    "name": "ipython",
    "version": 3
   },
   "file_extension": ".py",
   "mimetype": "text/x-python",
   "name": "python",
   "nbconvert_exporter": "python",
   "pygments_lexer": "ipython3",
   "version": "3.5.2"
  },
  "name": "finding_donors.ipynb"
 },
 "nbformat": 4,
 "nbformat_minor": 1
}
